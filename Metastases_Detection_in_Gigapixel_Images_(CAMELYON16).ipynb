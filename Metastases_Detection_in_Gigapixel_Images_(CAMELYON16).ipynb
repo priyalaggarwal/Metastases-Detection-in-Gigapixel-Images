{
  "nbformat": 4,
  "nbformat_minor": 0,
  "metadata": {
    "colab": {
      "name": "Metastases Detection in Gigapixel Images (CAMELYON16) .ipynb",
      "provenance": [],
      "toc_visible": true
    },
    "kernelspec": {
      "name": "python3",
      "display_name": "Python 3"
    },
    "accelerator": "GPU"
  },
  "cells": [
    {
      "cell_type": "code",
      "metadata": {
        "id": "ZCQKH3erbKFy",
        "colab_type": "code",
        "colab": {
          "base_uri": "https://localhost:8080/",
          "height": 273
        },
        "outputId": "7cc9f840-f604-4bc0-f64b-60b899d6efc5"
      },
      "source": [
        "!pip install setuptools==45.3.0"
      ],
      "execution_count": 1,
      "outputs": [
        {
          "output_type": "stream",
          "text": [
            "Collecting setuptools==45.3.0\n",
            "\u001b[?25l  Downloading https://files.pythonhosted.org/packages/0e/8e/4d9a9009afeae48ec1301713d96b9ae901aa6e157637ddf37e844c1bf4ee/setuptools-45.3.0-py3-none-any.whl (585kB)\n",
            "\r\u001b[K     |▋                               | 10kB 20.6MB/s eta 0:00:01\r\u001b[K     |█▏                              | 20kB 2.8MB/s eta 0:00:01\r\u001b[K     |█▊                              | 30kB 3.5MB/s eta 0:00:01\r\u001b[K     |██▎                             | 40kB 4.0MB/s eta 0:00:01\r\u001b[K     |██▉                             | 51kB 3.3MB/s eta 0:00:01\r\u001b[K     |███▍                            | 61kB 3.6MB/s eta 0:00:01\r\u001b[K     |████                            | 71kB 4.0MB/s eta 0:00:01\r\u001b[K     |████▌                           | 81kB 4.3MB/s eta 0:00:01\r\u001b[K     |█████                           | 92kB 4.7MB/s eta 0:00:01\r\u001b[K     |█████▋                          | 102kB 4.4MB/s eta 0:00:01\r\u001b[K     |██████▏                         | 112kB 4.4MB/s eta 0:00:01\r\u001b[K     |██████▊                         | 122kB 4.4MB/s eta 0:00:01\r\u001b[K     |███████▎                        | 133kB 4.4MB/s eta 0:00:01\r\u001b[K     |███████▉                        | 143kB 4.4MB/s eta 0:00:01\r\u001b[K     |████████▍                       | 153kB 4.4MB/s eta 0:00:01\r\u001b[K     |█████████                       | 163kB 4.4MB/s eta 0:00:01\r\u001b[K     |█████████▌                      | 174kB 4.4MB/s eta 0:00:01\r\u001b[K     |██████████                      | 184kB 4.4MB/s eta 0:00:01\r\u001b[K     |██████████▋                     | 194kB 4.4MB/s eta 0:00:01\r\u001b[K     |███████████▏                    | 204kB 4.4MB/s eta 0:00:01\r\u001b[K     |███████████▊                    | 215kB 4.4MB/s eta 0:00:01\r\u001b[K     |████████████▎                   | 225kB 4.4MB/s eta 0:00:01\r\u001b[K     |████████████▉                   | 235kB 4.4MB/s eta 0:00:01\r\u001b[K     |█████████████▍                  | 245kB 4.4MB/s eta 0:00:01\r\u001b[K     |██████████████                  | 256kB 4.4MB/s eta 0:00:01\r\u001b[K     |██████████████▌                 | 266kB 4.4MB/s eta 0:00:01\r\u001b[K     |███████████████                 | 276kB 4.4MB/s eta 0:00:01\r\u001b[K     |███████████████▊                | 286kB 4.4MB/s eta 0:00:01\r\u001b[K     |████████████████▎               | 296kB 4.4MB/s eta 0:00:01\r\u001b[K     |████████████████▉               | 307kB 4.4MB/s eta 0:00:01\r\u001b[K     |█████████████████▍              | 317kB 4.4MB/s eta 0:00:01\r\u001b[K     |██████████████████              | 327kB 4.4MB/s eta 0:00:01\r\u001b[K     |██████████████████▌             | 337kB 4.4MB/s eta 0:00:01\r\u001b[K     |███████████████████             | 348kB 4.4MB/s eta 0:00:01\r\u001b[K     |███████████████████▋            | 358kB 4.4MB/s eta 0:00:01\r\u001b[K     |████████████████████▏           | 368kB 4.4MB/s eta 0:00:01\r\u001b[K     |████████████████████▊           | 378kB 4.4MB/s eta 0:00:01\r\u001b[K     |█████████████████████▎          | 389kB 4.4MB/s eta 0:00:01\r\u001b[K     |█████████████████████▉          | 399kB 4.4MB/s eta 0:00:01\r\u001b[K     |██████████████████████▍         | 409kB 4.4MB/s eta 0:00:01\r\u001b[K     |███████████████████████         | 419kB 4.4MB/s eta 0:00:01\r\u001b[K     |███████████████████████▌        | 430kB 4.4MB/s eta 0:00:01\r\u001b[K     |████████████████████████        | 440kB 4.4MB/s eta 0:00:01\r\u001b[K     |████████████████████████▋       | 450kB 4.4MB/s eta 0:00:01\r\u001b[K     |█████████████████████████▏      | 460kB 4.4MB/s eta 0:00:01\r\u001b[K     |█████████████████████████▊      | 471kB 4.4MB/s eta 0:00:01\r\u001b[K     |██████████████████████████▎     | 481kB 4.4MB/s eta 0:00:01\r\u001b[K     |██████████████████████████▉     | 491kB 4.4MB/s eta 0:00:01\r\u001b[K     |███████████████████████████▍    | 501kB 4.4MB/s eta 0:00:01\r\u001b[K     |████████████████████████████    | 512kB 4.4MB/s eta 0:00:01\r\u001b[K     |████████████████████████████▌   | 522kB 4.4MB/s eta 0:00:01\r\u001b[K     |█████████████████████████████   | 532kB 4.4MB/s eta 0:00:01\r\u001b[K     |█████████████████████████████▋  | 542kB 4.4MB/s eta 0:00:01\r\u001b[K     |██████████████████████████████▏ | 552kB 4.4MB/s eta 0:00:01\r\u001b[K     |██████████████████████████████▉ | 563kB 4.4MB/s eta 0:00:01\r\u001b[K     |███████████████████████████████▍| 573kB 4.4MB/s eta 0:00:01\r\u001b[K     |████████████████████████████████| 583kB 4.4MB/s eta 0:00:01\r\u001b[K     |████████████████████████████████| 593kB 4.4MB/s \n",
            "\u001b[31mERROR: datascience 0.10.6 has requirement folium==0.2.1, but you'll have folium 0.8.3 which is incompatible.\u001b[0m\n",
            "\u001b[?25hInstalling collected packages: setuptools\n",
            "  Found existing installation: setuptools 49.6.0\n",
            "    Uninstalling setuptools-49.6.0:\n",
            "      Successfully uninstalled setuptools-49.6.0\n",
            "Successfully installed setuptools-45.3.0\n"
          ],
          "name": "stdout"
        },
        {
          "output_type": "display_data",
          "data": {
            "application/vnd.colab-display-data+json": {
              "pip_warning": {
                "packages": [
                  "pkg_resources"
                ]
              }
            }
          },
          "metadata": {
            "tags": []
          }
        }
      ]
    },
    {
      "cell_type": "code",
      "metadata": {
        "id": "FVJB_UNAcg3u",
        "colab_type": "code",
        "colab": {
          "base_uri": "https://localhost:8080/",
          "height": 742
        },
        "outputId": "2f6d93ff-cf3b-4b80-9719-9be4abdf6863"
      },
      "source": [
        "!apt-get install openslide-tools\n",
        "!pip install openslide-python"
      ],
      "execution_count": 2,
      "outputs": [
        {
          "output_type": "stream",
          "text": [
            "Reading package lists... Done\n",
            "Building dependency tree       \n",
            "Reading state information... Done\n",
            "The following package was automatically installed and is no longer required:\n",
            "  libnvidia-common-440\n",
            "Use 'apt autoremove' to remove it.\n",
            "The following additional packages will be installed:\n",
            "  libopenslide0\n",
            "Suggested packages:\n",
            "  libtiff-tools\n",
            "The following NEW packages will be installed:\n",
            "  libopenslide0 openslide-tools\n",
            "0 upgraded, 2 newly installed, 0 to remove and 35 not upgraded.\n",
            "Need to get 92.5 kB of archives.\n",
            "After this operation, 268 kB of additional disk space will be used.\n",
            "Get:1 http://archive.ubuntu.com/ubuntu bionic/universe amd64 libopenslide0 amd64 3.4.1+dfsg-2 [79.8 kB]\n",
            "Get:2 http://archive.ubuntu.com/ubuntu bionic/universe amd64 openslide-tools amd64 3.4.1+dfsg-2 [12.7 kB]\n",
            "Fetched 92.5 kB in 1s (116 kB/s)\n",
            "Selecting previously unselected package libopenslide0.\n",
            "(Reading database ... 144556 files and directories currently installed.)\n",
            "Preparing to unpack .../libopenslide0_3.4.1+dfsg-2_amd64.deb ...\n",
            "Unpacking libopenslide0 (3.4.1+dfsg-2) ...\n",
            "Selecting previously unselected package openslide-tools.\n",
            "Preparing to unpack .../openslide-tools_3.4.1+dfsg-2_amd64.deb ...\n",
            "Unpacking openslide-tools (3.4.1+dfsg-2) ...\n",
            "Setting up libopenslide0 (3.4.1+dfsg-2) ...\n",
            "Setting up openslide-tools (3.4.1+dfsg-2) ...\n",
            "Processing triggers for libc-bin (2.27-3ubuntu1) ...\n",
            "/sbin/ldconfig.real: /usr/local/lib/python3.6/dist-packages/ideep4py/lib/libmkldnn.so.0 is not a symbolic link\n",
            "\n",
            "Processing triggers for man-db (2.8.3-2ubuntu0.1) ...\n",
            "Collecting openslide-python\n",
            "\u001b[?25l  Downloading https://files.pythonhosted.org/packages/26/5a/5b0adeabce81f018a9e4ffe9a419536064bc95c1b12194aff9b7e48f91f7/openslide-python-1.1.1.tar.gz (312kB)\n",
            "\u001b[K     |████████████████████████████████| 317kB 4.4MB/s \n",
            "\u001b[?25hRequirement already satisfied: Pillow in /usr/local/lib/python3.6/dist-packages (from openslide-python) (7.0.0)\n",
            "Building wheels for collected packages: openslide-python\n",
            "  Building wheel for openslide-python (setup.py) ... \u001b[?25l\u001b[?25hdone\n",
            "  Created wheel for openslide-python: filename=openslide_python-1.1.1-cp36-cp36m-linux_x86_64.whl size=27366 sha256=33921858e2caadcb9ae1ad1a751d85e815447521a604e0ec7b967f8fe4f910da\n",
            "  Stored in directory: /root/.cache/pip/wheels/56/44/7e/16c9fc72cfbf1bffe48676b6835843d21abcc56566e958e7d6\n",
            "Successfully built openslide-python\n",
            "Installing collected packages: openslide-python\n",
            "Successfully installed openslide-python-1.1.1\n"
          ],
          "name": "stdout"
        }
      ]
    },
    {
      "cell_type": "code",
      "metadata": {
        "id": "Yus1-Zb-cVpj",
        "colab_type": "code",
        "colab": {}
      },
      "source": [
        "%matplotlib inline\n",
        "import matplotlib.pyplot as plt\n",
        "import numpy as np\n",
        "from openslide import open_slide\n",
        "from openslide import __library_version__ as openslide_version\n",
        "import os\n",
        "from PIL import Image\n",
        "from skimage.color import rgb2gray"
      ],
      "execution_count": 3,
      "outputs": []
    },
    {
      "cell_type": "code",
      "metadata": {
        "id": "xkkrG0bdnmAJ",
        "colab_type": "code",
        "colab": {}
      },
      "source": [
        "#Define Image size and level to be used\n",
        "IMG_SIZE = 299\n",
        "level = 5"
      ],
      "execution_count": 4,
      "outputs": []
    },
    {
      "cell_type": "markdown",
      "metadata": {
        "id": "wFOkSRKfe2Lo",
        "colab_type": "text"
      },
      "source": [
        "## Create Dataset using Gigapixel images from Google Drive"
      ]
    },
    {
      "cell_type": "code",
      "metadata": {
        "id": "0Dyv9Kv0e1re",
        "colab_type": "code",
        "colab": {
          "base_uri": "https://localhost:8080/",
          "height": 121
        },
        "outputId": "35f3e5f2-a8f7-4351-9065-415247b8c5d8"
      },
      "source": [
        "from google.colab import drive\n",
        "drive.mount('/gdrive')"
      ],
      "execution_count": 5,
      "outputs": [
        {
          "output_type": "stream",
          "text": [
            "Go to this URL in a browser: https://accounts.google.com/o/oauth2/auth?client_id=947318989803-6bn6qk8qdgf4n4g3pfee6491hc0brc4i.apps.googleusercontent.com&redirect_uri=urn%3aietf%3awg%3aoauth%3a2.0%3aoob&scope=email%20https%3a%2f%2fwww.googleapis.com%2fauth%2fdocs.test%20https%3a%2f%2fwww.googleapis.com%2fauth%2fdrive%20https%3a%2f%2fwww.googleapis.com%2fauth%2fdrive.photos.readonly%20https%3a%2f%2fwww.googleapis.com%2fauth%2fpeopleapi.readonly&response_type=code\n",
            "\n",
            "Enter your authorization code:\n",
            "··········\n",
            "Mounted at /gdrive\n"
          ],
          "name": "stdout"
        }
      ]
    },
    {
      "cell_type": "code",
      "metadata": {
        "id": "Q4oSg4Sve8Um",
        "colab_type": "code",
        "colab": {}
      },
      "source": [
        "!cp -r /gdrive/My\\ Drive/slides /content\n",
        "slides_directory = '/content/slides'"
      ],
      "execution_count": 6,
      "outputs": []
    },
    {
      "cell_type": "code",
      "metadata": {
        "id": "Aly5Xz4fe9fj",
        "colab_type": "code",
        "colab": {
          "base_uri": "https://localhost:8080/",
          "height": 70
        },
        "outputId": "14b83c0f-dc04-42e5-b6a1-e914ba55f525"
      },
      "source": [
        "import os\n",
        "files = os.listdir(slides_directory)\n",
        "print(len(files))\n",
        "print(files)"
      ],
      "execution_count": 7,
      "outputs": [
        {
          "output_type": "stream",
          "text": [
            "67\n",
            "['tumor_091_mask.tif', 'tumor_091.tif', 'tumor_001_mask.tif', 'tumor_001.tif', 'tumor_002_mask.tif', 'tumor_002.tif', 'tumor_005_mask.tif', 'tumor_005.tif', 'tumor_012_mask.tif', 'tumor_012.tif', 'tumor_016_mask.tif', 'tumor_016.tif', 'tumor_019_mask.tif', 'tumor_059.xml', 'tumor_002.xml', 'tumor_075.xml', 'tumor_023.xml', 'tumor_057.xml', 'tumor_005.xml', 'tumor_035.xml', 'tumor_019.xml', 'tumor_012.xml', 'tumor_016.xml', 'tumor_001.xml', 'tumor_081.xml', 'tumor_084.xml', 'tumor_019.tif', 'tumor_091.xml', 'tumor_094.xml', 'tumor_110.xml', 'tumor_096.xml', 'tumor_101.xml', 'tumor_099.xml', 'tumor_023_mask.tif', 'tumor_023.tif', 'tumor_031_mask.tif', 'tumor_031.tif', 'tumor_035_mask.tif', 'tumor_035.tif', 'tumor_038.tif', 'tumor_038 (1).xml', 'tumor_057_mask.tif', 'tumor_057.tif', 'tumor_059_mask.tif', 'tumor_059.tif', 'tumor_064_mask.tif', 'tumor_064.tif', 'tumor_075_mask.tif', 'tumor_075.tif', 'tumor_078_mask.tif', 'tumor_078.tif', 'tumor_081_mask.tif', 'tumor_081.tif', 'tumor_084_mask.tif', 'tumor_084.tif', 'tumor_094_mask.tif', 'tumor_094.tif', 'tumor_096_mask.tif', 'tumor_096.tif', 'tumor_110_mask.tif', 'tumor_110.tif', 'tumor_101_mask.tif', 'tumor_101.tif', 'tumor_031.xml', 'tumor_038.xml', 'tumor_064.xml', 'tumor_078.xml']\n"
          ],
          "name": "stdout"
        }
      ]
    },
    {
      "cell_type": "code",
      "metadata": {
        "id": "IMXtw5uqe-x2",
        "colab_type": "code",
        "colab": {
          "base_uri": "https://localhost:8080/",
          "height": 70
        },
        "outputId": "4976ee5b-ad88-4b89-e37a-e67adc64808f"
      },
      "source": [
        "tumor_mask_pairs = []\n",
        "\n",
        "for file in files:\n",
        "  if 'mask' in file:\n",
        "    mask = file\n",
        "    slide = file.split('.')[0][0:-5] + '.tif'\n",
        "    tumor_mask_pairs.append([mask, slide])\n",
        "\n",
        "print(len(tumor_mask_pairs))\n",
        "print(tumor_mask_pairs)"
      ],
      "execution_count": 8,
      "outputs": [
        {
          "output_type": "stream",
          "text": [
            "21\n",
            "[['tumor_091_mask.tif', 'tumor_091.tif'], ['tumor_001_mask.tif', 'tumor_001.tif'], ['tumor_002_mask.tif', 'tumor_002.tif'], ['tumor_005_mask.tif', 'tumor_005.tif'], ['tumor_012_mask.tif', 'tumor_012.tif'], ['tumor_016_mask.tif', 'tumor_016.tif'], ['tumor_019_mask.tif', 'tumor_019.tif'], ['tumor_023_mask.tif', 'tumor_023.tif'], ['tumor_031_mask.tif', 'tumor_031.tif'], ['tumor_035_mask.tif', 'tumor_035.tif'], ['tumor_057_mask.tif', 'tumor_057.tif'], ['tumor_059_mask.tif', 'tumor_059.tif'], ['tumor_064_mask.tif', 'tumor_064.tif'], ['tumor_075_mask.tif', 'tumor_075.tif'], ['tumor_078_mask.tif', 'tumor_078.tif'], ['tumor_081_mask.tif', 'tumor_081.tif'], ['tumor_084_mask.tif', 'tumor_084.tif'], ['tumor_094_mask.tif', 'tumor_094.tif'], ['tumor_096_mask.tif', 'tumor_096.tif'], ['tumor_110_mask.tif', 'tumor_110.tif'], ['tumor_101_mask.tif', 'tumor_101.tif']]\n"
          ],
          "name": "stdout"
        }
      ]
    },
    {
      "cell_type": "markdown",
      "metadata": {
        "id": "Goy__3B-oODg",
        "colab_type": "text"
      },
      "source": [
        "### Train Test separation"
      ]
    },
    {
      "cell_type": "code",
      "metadata": {
        "id": "xip6m6NboVOk",
        "colab_type": "code",
        "colab": {}
      },
      "source": [
        "train_size = int(len(tumor_mask_pairs)*0.8)\n",
        "train_slides = tumor_mask_pairs[:train_size]\n",
        "test_slides = tumor_mask_pairs[train_size:]"
      ],
      "execution_count": 9,
      "outputs": []
    },
    {
      "cell_type": "code",
      "metadata": {
        "id": "xJiW2bMjoZCA",
        "colab_type": "code",
        "colab": {
          "base_uri": "https://localhost:8080/",
          "height": 50
        },
        "outputId": "65328e7b-a6fe-42e8-fd03-255cf4aeae65"
      },
      "source": [
        "print(len(train_slides))\n",
        "print(len(test_slides))"
      ],
      "execution_count": 10,
      "outputs": [
        {
          "output_type": "stream",
          "text": [
            "16\n",
            "5\n"
          ],
          "name": "stdout"
        }
      ]
    },
    {
      "cell_type": "markdown",
      "metadata": {
        "id": "f7RMDKr8oqB1",
        "colab_type": "text"
      },
      "source": [
        "# Generate Dataset and save to disk"
      ]
    },
    {
      "cell_type": "code",
      "metadata": {
        "id": "uYdAcyNwpQPo",
        "colab_type": "code",
        "colab": {}
      },
      "source": [
        "def generate_dataset(tumor_mask_pairs, slides_directory):\n",
        "  for pair in tumor_mask_pairs:\n",
        "    print(pair)\n",
        "    mask_path = slides_directory + '/' + pair[0]\n",
        "    slide_path = slides_directory + '/' + pair[1]\n",
        "\n",
        "    slide = open_slide(slide_path)\n",
        "    tumor_mask = open_slide(mask_path)\n",
        "\n",
        "    pos_images, mask_subimages, neg_images = extract_images(slide, tumor_mask, level)\n",
        "\n",
        "    %cd positive/\n",
        "    save_pos_images_with_flippping(pair[1], pos_images)\n",
        "    \n",
        "    %cd ../negative/\n",
        "    save_neg_images(pair[1], neg_images)\n",
        "\n",
        "    %cd .."
      ],
      "execution_count": 14,
      "outputs": []
    },
    {
      "cell_type": "code",
      "metadata": {
        "id": "3cgeat4Jqjh0",
        "colab_type": "code",
        "colab": {}
      },
      "source": [
        "def extract_images(image_slide, tumor_slide, level):\n",
        "  factor = 2**level\n",
        "  threshold_pixels_cancerous = 0.001*(IMG_SIZE * IMG_SIZE)\n",
        "\n",
        "  pos_images = []\n",
        "  mask_subimages = []\n",
        "  neg_images = []\n",
        "\n",
        "  for i in range(0, image_slide.level_dimensions[level][0], IMG_SIZE):\n",
        "    for j in range(0, image_slide.level_dimensions[level][1], IMG_SIZE):\n",
        "      sub_img = read_slide(image_slide, x=i*factor, y=j*factor, level=level, width=IMG_SIZE, height=IMG_SIZE)\n",
        "      tissue_pixels = find_tissue_pixels(sub_img)\n",
        "      percent_tissue = len(tissue_pixels) / float(sub_img.shape[0]*sub_img.shape[1]) * 100\n",
        "      # if percent_tissue > 0.1:\n",
        "      if percent_tissue > 10.0:\n",
        "        mask_subimg = read_slide(tumor_slide, x=i*factor, y=j*factor, level=level, width=IMG_SIZE, height=IMG_SIZE)\n",
        "        mask_subimg = mask_subimg[:,:,0]\n",
        "        n_tumour_pixels = np.count_nonzero(mask_subimg == 1)\n",
        "        if n_tumour_pixels>threshold_pixels_cancerous:\n",
        "          pos_images.append(sub_img)\n",
        "          mask_subimages.append(mask_subimg)\n",
        "        else:\n",
        "          neg_images.append(sub_img)\n",
        "  \n",
        "  return pos_images, mask_subimages, neg_images"
      ],
      "execution_count": 13,
      "outputs": []
    },
    {
      "cell_type": "code",
      "metadata": {
        "id": "8mlIFZQbtnFc",
        "colab_type": "code",
        "colab": {}
      },
      "source": [
        "def read_slide(slide, x, y, level, width, height, as_float=False):\n",
        "    im = slide.read_region((x,y), level, (width, height))\n",
        "    im = im.convert('RGB') # drop the alpha channel\n",
        "    if as_float:\n",
        "        im = np.asarray(im, dtype=np.float32)\n",
        "    else:\n",
        "        im = np.asarray(im)\n",
        "    assert im.shape == (height, width, 3)\n",
        "    return im\n",
        "\n",
        "def find_tissue_pixels(image, intensity=0.8):\n",
        "    im_gray = rgb2gray(image)\n",
        "    assert im_gray.shape == (image.shape[0], image.shape[1])\n",
        "    indices = np.where(im_gray <= intensity)\n",
        "    return list(zip(indices[0], indices[1]))"
      ],
      "execution_count": 17,
      "outputs": []
    },
    {
      "cell_type": "code",
      "metadata": {
        "id": "I87_fXsMovpc",
        "colab_type": "code",
        "colab": {}
      },
      "source": [
        "#save images along with some rotated variants\n",
        "def save_pos_images_with_flippping(fname, pos_images):\n",
        "  i=0\n",
        "  for j in range(len(pos_images)):\n",
        "    result = Image.fromarray((pos_images[j]).astype(np.uint8))\n",
        "    result.save(fname + '_img_' + str(i) + '.bmp')\n",
        "    i += 1\n",
        "  \n",
        "  #add images flipped left to right\n",
        "  for j in range(len(pos_images)):\n",
        "    flipped_image = np.fliplr(pos_images[j])\n",
        "    result = Image.fromarray(flipped_image.astype(np.uint8))\n",
        "    result.save(fname + '_img_' + str(i) + '.bmp')\n",
        "    i += 1\n",
        "\n",
        "  #add images flipped up down\n",
        "  for j in range(len(pos_images)):\n",
        "    flipped_image = np.flipud(pos_images[j])\n",
        "    result = Image.fromarray(flipped_image.astype(np.uint8))\n",
        "    result.save(fname + '_img_' + str(i) + '.bmp')\n",
        "    i += 1\n",
        "  \n",
        "  #add images flipped lr and ud\n",
        "  for j in range(len(pos_images)):\n",
        "    flipped_image = np.fliplr(pos_images[j])\n",
        "    flipped_image_2 = np.flipud(flipped_image)\n",
        "    result = Image.fromarray(flipped_image_2.astype(np.uint8))\n",
        "    result.save(fname + '_img_' + str(i) + '.bmp')\n",
        "    i += 1\n",
        "  return i"
      ],
      "execution_count": 11,
      "outputs": []
    },
    {
      "cell_type": "code",
      "metadata": {
        "id": "-lUfFA-XowY-",
        "colab_type": "code",
        "colab": {}
      },
      "source": [
        "def save_neg_images(fname, neg_images):\n",
        "  i=0\n",
        "  for j in range(len(neg_images)):\n",
        "    result = Image.fromarray((neg_images[j]).astype(np.uint8))\n",
        "    result.save(fname + '_img_' + str(i) + '.bmp')\n",
        "    i += 1"
      ],
      "execution_count": 12,
      "outputs": []
    },
    {
      "cell_type": "code",
      "metadata": {
        "id": "CRbFCd9mpQIT",
        "colab_type": "code",
        "colab": {
          "base_uri": "https://localhost:8080/",
          "height": 34
        },
        "outputId": "779d423e-a899-4ec0-e3c6-d072854875d1"
      },
      "source": [
        "!mkdir 'camelyon_small_data'\n",
        "%cd 'camelyon_small_data'\n",
        "!mkdir 'train'\n",
        "!mkdir 'test'"
      ],
      "execution_count": 15,
      "outputs": [
        {
          "output_type": "stream",
          "text": [
            "/content/camelyon_small_data\n"
          ],
          "name": "stdout"
        }
      ]
    },
    {
      "cell_type": "code",
      "metadata": {
        "id": "ELpFbWriruaa",
        "colab_type": "code",
        "colab": {
          "base_uri": "https://localhost:8080/",
          "height": 1000
        },
        "outputId": "11e72740-6c6f-42b8-e929-3bc84c3ef58e"
      },
      "source": [
        "# %cd 'train'\n",
        "# !mkdir 'positive'\n",
        "# !mkdir 'negative'\n",
        "train_pos_images, train_neg_images, train_mask_subimages = generate_dataset(train_slides, slides_directory)"
      ],
      "execution_count": 18,
      "outputs": [
        {
          "output_type": "stream",
          "text": [
            "['tumor_091_mask.tif', 'tumor_091.tif']\n",
            "/content/camelyon_small_data/train/positive\n",
            "/content/camelyon_small_data/train/negative\n",
            "/content/camelyon_small_data/train\n",
            "['tumor_001_mask.tif', 'tumor_001.tif']\n",
            "/content/camelyon_small_data/train/positive\n",
            "/content/camelyon_small_data/train/negative\n",
            "/content/camelyon_small_data/train\n",
            "['tumor_002_mask.tif', 'tumor_002.tif']\n",
            "/content/camelyon_small_data/train/positive\n",
            "/content/camelyon_small_data/train/negative\n",
            "/content/camelyon_small_data/train\n",
            "['tumor_005_mask.tif', 'tumor_005.tif']\n",
            "/content/camelyon_small_data/train/positive\n",
            "/content/camelyon_small_data/train/negative\n",
            "/content/camelyon_small_data/train\n",
            "['tumor_012_mask.tif', 'tumor_012.tif']\n",
            "/content/camelyon_small_data/train/positive\n",
            "/content/camelyon_small_data/train/negative\n",
            "/content/camelyon_small_data/train\n",
            "['tumor_016_mask.tif', 'tumor_016.tif']\n",
            "/content/camelyon_small_data/train/positive\n",
            "/content/camelyon_small_data/train/negative\n",
            "/content/camelyon_small_data/train\n",
            "['tumor_019_mask.tif', 'tumor_019.tif']\n",
            "/content/camelyon_small_data/train/positive\n",
            "/content/camelyon_small_data/train/negative\n",
            "/content/camelyon_small_data/train\n",
            "['tumor_023_mask.tif', 'tumor_023.tif']\n",
            "/content/camelyon_small_data/train/positive\n",
            "/content/camelyon_small_data/train/negative\n",
            "/content/camelyon_small_data/train\n",
            "['tumor_031_mask.tif', 'tumor_031.tif']\n",
            "/content/camelyon_small_data/train/positive\n",
            "/content/camelyon_small_data/train/negative\n",
            "/content/camelyon_small_data/train\n",
            "['tumor_035_mask.tif', 'tumor_035.tif']\n",
            "/content/camelyon_small_data/train/positive\n",
            "/content/camelyon_small_data/train/negative\n",
            "/content/camelyon_small_data/train\n",
            "['tumor_057_mask.tif', 'tumor_057.tif']\n",
            "/content/camelyon_small_data/train/positive\n",
            "/content/camelyon_small_data/train/negative\n",
            "/content/camelyon_small_data/train\n",
            "['tumor_059_mask.tif', 'tumor_059.tif']\n",
            "/content/camelyon_small_data/train/positive\n",
            "/content/camelyon_small_data/train/negative\n",
            "/content/camelyon_small_data/train\n",
            "['tumor_064_mask.tif', 'tumor_064.tif']\n",
            "/content/camelyon_small_data/train/positive\n",
            "/content/camelyon_small_data/train/negative\n",
            "/content/camelyon_small_data/train\n",
            "['tumor_075_mask.tif', 'tumor_075.tif']\n",
            "/content/camelyon_small_data/train/positive\n",
            "/content/camelyon_small_data/train/negative\n",
            "/content/camelyon_small_data/train\n",
            "['tumor_078_mask.tif', 'tumor_078.tif']\n",
            "/content/camelyon_small_data/train/positive\n",
            "/content/camelyon_small_data/train/negative\n",
            "/content/camelyon_small_data/train\n",
            "['tumor_081_mask.tif', 'tumor_081.tif']\n",
            "/content/camelyon_small_data/train/positive\n",
            "/content/camelyon_small_data/train/negative\n",
            "/content/camelyon_small_data/train\n"
          ],
          "name": "stdout"
        },
        {
          "output_type": "error",
          "ename": "TypeError",
          "evalue": "ignored",
          "traceback": [
            "\u001b[0;31m---------------------------------------------------------------------------\u001b[0m",
            "\u001b[0;31mTypeError\u001b[0m                                 Traceback (most recent call last)",
            "\u001b[0;32m<ipython-input-18-347ef7c1c1a6>\u001b[0m in \u001b[0;36m<module>\u001b[0;34m()\u001b[0m\n\u001b[1;32m      2\u001b[0m \u001b[0;31m# !mkdir 'positive'\u001b[0m\u001b[0;34m\u001b[0m\u001b[0;34m\u001b[0m\u001b[0;34m\u001b[0m\u001b[0m\n\u001b[1;32m      3\u001b[0m \u001b[0;31m# !mkdir 'negative'\u001b[0m\u001b[0;34m\u001b[0m\u001b[0;34m\u001b[0m\u001b[0;34m\u001b[0m\u001b[0m\n\u001b[0;32m----> 4\u001b[0;31m \u001b[0mtrain_pos_images\u001b[0m\u001b[0;34m,\u001b[0m \u001b[0mtrain_neg_images\u001b[0m\u001b[0;34m,\u001b[0m \u001b[0mtrain_mask_subimages\u001b[0m \u001b[0;34m=\u001b[0m \u001b[0mgenerate_dataset\u001b[0m\u001b[0;34m(\u001b[0m\u001b[0mtrain_slides\u001b[0m\u001b[0;34m,\u001b[0m \u001b[0mslides_directory\u001b[0m\u001b[0;34m)\u001b[0m\u001b[0;34m\u001b[0m\u001b[0;34m\u001b[0m\u001b[0m\n\u001b[0m",
            "\u001b[0;31mTypeError\u001b[0m: 'NoneType' object is not iterable"
          ]
        }
      ]
    },
    {
      "cell_type": "code",
      "metadata": {
        "id": "7K5zVeRtryzM",
        "colab_type": "code",
        "colab": {
          "base_uri": "https://localhost:8080/",
          "height": 548
        },
        "outputId": "0cebf096-142c-4a21-bb24-21853b0cd731"
      },
      "source": [
        "%cd ../test\n",
        "!mkdir positive\n",
        "!mkdir negative\n",
        "test_pos_images, test_neg_images, test_mask_subimages = generate_dataset(test_slides, slides_directory)"
      ],
      "execution_count": 19,
      "outputs": [
        {
          "output_type": "stream",
          "text": [
            "/content/camelyon_small_data/test\n",
            "['tumor_084_mask.tif', 'tumor_084.tif']\n",
            "/content/camelyon_small_data/test/positive\n",
            "/content/camelyon_small_data/test/negative\n",
            "/content/camelyon_small_data/test\n",
            "['tumor_094_mask.tif', 'tumor_094.tif']\n",
            "/content/camelyon_small_data/test/positive\n",
            "/content/camelyon_small_data/test/negative\n",
            "/content/camelyon_small_data/test\n",
            "['tumor_096_mask.tif', 'tumor_096.tif']\n",
            "/content/camelyon_small_data/test/positive\n",
            "/content/camelyon_small_data/test/negative\n",
            "/content/camelyon_small_data/test\n",
            "['tumor_110_mask.tif', 'tumor_110.tif']\n",
            "/content/camelyon_small_data/test/positive\n",
            "/content/camelyon_small_data/test/negative\n",
            "/content/camelyon_small_data/test\n",
            "['tumor_101_mask.tif', 'tumor_101.tif']\n",
            "/content/camelyon_small_data/test/positive\n",
            "/content/camelyon_small_data/test/negative\n",
            "/content/camelyon_small_data/test\n"
          ],
          "name": "stdout"
        },
        {
          "output_type": "error",
          "ename": "TypeError",
          "evalue": "ignored",
          "traceback": [
            "\u001b[0;31m---------------------------------------------------------------------------\u001b[0m",
            "\u001b[0;31mTypeError\u001b[0m                                 Traceback (most recent call last)",
            "\u001b[0;32m<ipython-input-19-be4ea0364da6>\u001b[0m in \u001b[0;36m<module>\u001b[0;34m()\u001b[0m\n\u001b[1;32m      2\u001b[0m \u001b[0mget_ipython\u001b[0m\u001b[0;34m(\u001b[0m\u001b[0;34m)\u001b[0m\u001b[0;34m.\u001b[0m\u001b[0msystem\u001b[0m\u001b[0;34m(\u001b[0m\u001b[0;34m'mkdir positive'\u001b[0m\u001b[0;34m)\u001b[0m\u001b[0;34m\u001b[0m\u001b[0;34m\u001b[0m\u001b[0m\n\u001b[1;32m      3\u001b[0m \u001b[0mget_ipython\u001b[0m\u001b[0;34m(\u001b[0m\u001b[0;34m)\u001b[0m\u001b[0;34m.\u001b[0m\u001b[0msystem\u001b[0m\u001b[0;34m(\u001b[0m\u001b[0;34m'mkdir negative'\u001b[0m\u001b[0;34m)\u001b[0m\u001b[0;34m\u001b[0m\u001b[0;34m\u001b[0m\u001b[0m\n\u001b[0;32m----> 4\u001b[0;31m \u001b[0mtest_pos_images\u001b[0m\u001b[0;34m,\u001b[0m \u001b[0mtest_neg_images\u001b[0m\u001b[0;34m,\u001b[0m \u001b[0mtest_mask_subimages\u001b[0m \u001b[0;34m=\u001b[0m \u001b[0mgenerate_dataset\u001b[0m\u001b[0;34m(\u001b[0m\u001b[0mtest_slides\u001b[0m\u001b[0;34m,\u001b[0m \u001b[0mslides_directory\u001b[0m\u001b[0;34m)\u001b[0m\u001b[0;34m\u001b[0m\u001b[0;34m\u001b[0m\u001b[0m\n\u001b[0m",
            "\u001b[0;31mTypeError\u001b[0m: 'NoneType' object is not iterable"
          ]
        }
      ]
    }
  ]
}