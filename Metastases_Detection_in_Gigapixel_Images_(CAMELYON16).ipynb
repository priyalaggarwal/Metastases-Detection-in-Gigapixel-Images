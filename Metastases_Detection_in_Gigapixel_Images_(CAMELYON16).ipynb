{
  "nbformat": 4,
  "nbformat_minor": 0,
  "metadata": {
    "colab": {
      "name": "Metastases Detection in Gigapixel Images (CAMELYON16) .ipynb",
      "provenance": [],
      "toc_visible": true
    },
    "kernelspec": {
      "name": "python3",
      "display_name": "Python 3"
    },
    "accelerator": "GPU"
  },
  "cells": [
    {
      "cell_type": "code",
      "metadata": {
        "id": "ZCQKH3erbKFy",
        "outputId": "7fab46e9-5138-43ca-a6f6-9e8fcfb439f6",
        "colab": {
          "base_uri": "https://localhost:8080/",
          "height": 273
        }
      },
      "source": [
        "!pip install setuptools==45.3.0"
      ],
      "execution_count": 1,
      "outputs": [
        {
          "output_type": "stream",
          "text": [
            "Collecting setuptools==45.3.0\n",
            "\u001b[?25l  Downloading https://files.pythonhosted.org/packages/0e/8e/4d9a9009afeae48ec1301713d96b9ae901aa6e157637ddf37e844c1bf4ee/setuptools-45.3.0-py3-none-any.whl (585kB)\n",
            "\u001b[K     |████████████████████████████████| 593kB 2.7MB/s \n",
            "\u001b[31mERROR: datascience 0.10.6 has requirement folium==0.2.1, but you'll have folium 0.8.3 which is incompatible.\u001b[0m\n",
            "\u001b[?25hInstalling collected packages: setuptools\n",
            "  Found existing installation: setuptools 50.3.0\n",
            "    Uninstalling setuptools-50.3.0:\n",
            "      Successfully uninstalled setuptools-50.3.0\n",
            "Successfully installed setuptools-45.3.0\n"
          ],
          "name": "stdout"
        },
        {
          "output_type": "display_data",
          "data": {
            "application/vnd.colab-display-data+json": {
              "pip_warning": {
                "packages": [
                  "pkg_resources"
                ]
              }
            }
          },
          "metadata": {
            "tags": []
          }
        }
      ]
    },
    {
      "cell_type": "code",
      "metadata": {
        "id": "FVJB_UNAcg3u",
        "outputId": "dd7a4696-02b1-4bc6-c5c9-1c58f24a2a6b",
        "colab": {
          "base_uri": "https://localhost:8080/",
          "height": 692
        }
      },
      "source": [
        "!apt-get install openslide-tools\n",
        "!pip install openslide-python"
      ],
      "execution_count": 2,
      "outputs": [
        {
          "output_type": "stream",
          "text": [
            "Reading package lists... Done\n",
            "Building dependency tree       \n",
            "Reading state information... Done\n",
            "The following additional packages will be installed:\n",
            "  libopenslide0\n",
            "Suggested packages:\n",
            "  libtiff-tools\n",
            "The following NEW packages will be installed:\n",
            "  libopenslide0 openslide-tools\n",
            "0 upgraded, 2 newly installed, 0 to remove and 6 not upgraded.\n",
            "Need to get 92.5 kB of archives.\n",
            "After this operation, 268 kB of additional disk space will be used.\n",
            "Get:1 http://archive.ubuntu.com/ubuntu bionic/universe amd64 libopenslide0 amd64 3.4.1+dfsg-2 [79.8 kB]\n",
            "Get:2 http://archive.ubuntu.com/ubuntu bionic/universe amd64 openslide-tools amd64 3.4.1+dfsg-2 [12.7 kB]\n",
            "Fetched 92.5 kB in 1s (63.9 kB/s)\n",
            "Selecting previously unselected package libopenslide0.\n",
            "(Reading database ... 144617 files and directories currently installed.)\n",
            "Preparing to unpack .../libopenslide0_3.4.1+dfsg-2_amd64.deb ...\n",
            "Unpacking libopenslide0 (3.4.1+dfsg-2) ...\n",
            "Selecting previously unselected package openslide-tools.\n",
            "Preparing to unpack .../openslide-tools_3.4.1+dfsg-2_amd64.deb ...\n",
            "Unpacking openslide-tools (3.4.1+dfsg-2) ...\n",
            "Setting up libopenslide0 (3.4.1+dfsg-2) ...\n",
            "Setting up openslide-tools (3.4.1+dfsg-2) ...\n",
            "Processing triggers for libc-bin (2.27-3ubuntu1.2) ...\n",
            "/sbin/ldconfig.real: /usr/local/lib/python3.6/dist-packages/ideep4py/lib/libmkldnn.so.0 is not a symbolic link\n",
            "\n",
            "Processing triggers for man-db (2.8.3-2ubuntu0.1) ...\n",
            "Collecting openslide-python\n",
            "\u001b[?25l  Downloading https://files.pythonhosted.org/packages/03/da/12dc0e7566ace61a5a65244220458dcb656b09cbf18ca50f3098875d97e4/openslide-python-1.1.2.tar.gz (316kB)\n",
            "\u001b[K     |████████████████████████████████| 317kB 2.8MB/s \n",
            "\u001b[?25hRequirement already satisfied: Pillow in /usr/local/lib/python3.6/dist-packages (from openslide-python) (7.0.0)\n",
            "Building wheels for collected packages: openslide-python\n",
            "  Building wheel for openslide-python (setup.py) ... \u001b[?25l\u001b[?25hdone\n",
            "  Created wheel for openslide-python: filename=openslide_python-1.1.2-cp36-cp36m-linux_x86_64.whl size=26719 sha256=ff446fe9127e32ef50d01cba46978aa5cbc4274bcf0178c89e993b656341e51d\n",
            "  Stored in directory: /root/.cache/pip/wheels/6b/55/74/ba9d3dcc2c5c0f1282e08bae70df0ed57b496fb6b5c8f1adc9\n",
            "Successfully built openslide-python\n",
            "Installing collected packages: openslide-python\n",
            "Successfully installed openslide-python-1.1.2\n"
          ],
          "name": "stdout"
        }
      ]
    },
    {
      "cell_type": "code",
      "metadata": {
        "id": "Yus1-Zb-cVpj"
      },
      "source": [
        "%matplotlib inline\n",
        "import matplotlib.pyplot as plt\n",
        "import numpy as np\n",
        "from openslide import open_slide\n",
        "from openslide import __library_version__ as openslide_version\n",
        "import os\n",
        "from PIL import Image\n",
        "from skimage.color import rgb2gray"
      ],
      "execution_count": 3,
      "outputs": []
    },
    {
      "cell_type": "code",
      "metadata": {
        "id": "xkkrG0bdnmAJ"
      },
      "source": [
        "#Define Image size and level to be used\n",
        "IMG_SIZE = 299\n",
        "level = 5"
      ],
      "execution_count": 4,
      "outputs": []
    },
    {
      "cell_type": "markdown",
      "metadata": {
        "id": "wFOkSRKfe2Lo"
      },
      "source": [
        "## Create Dataset using Gigapixel images from Google Drive"
      ]
    },
    {
      "cell_type": "code",
      "metadata": {
        "id": "0Dyv9Kv0e1re",
        "outputId": "ff7ace23-3931-49f8-e742-c7df84d7542b",
        "colab": {
          "base_uri": "https://localhost:8080/",
          "height": 34
        }
      },
      "source": [
        "from google.colab import drive\n",
        "drive.mount('/gdrive')"
      ],
      "execution_count": 5,
      "outputs": [
        {
          "output_type": "stream",
          "text": [
            "Mounted at /gdrive\n"
          ],
          "name": "stdout"
        }
      ]
    },
    {
      "cell_type": "code",
      "metadata": {
        "id": "Q4oSg4Sve8Um"
      },
      "source": [
        "!cp -r /gdrive/My\\ Drive/slides /content\n",
        "slides_directory = '/content/slides'"
      ],
      "execution_count": 6,
      "outputs": []
    },
    {
      "cell_type": "code",
      "metadata": {
        "id": "Aly5Xz4fe9fj",
        "outputId": "c9326434-e678-4aa2-fff6-cf331a78daa9",
        "colab": {
          "base_uri": "https://localhost:8080/",
          "height": 70
        }
      },
      "source": [
        "import os\n",
        "files = os.listdir(slides_directory)\n",
        "print(len(files))\n",
        "print(files)"
      ],
      "execution_count": 7,
      "outputs": [
        {
          "output_type": "stream",
          "text": [
            "67\n",
            "['tumor_091_mask.tif', 'tumor_091.tif', 'tumor_001_mask.tif', 'tumor_001.tif', 'tumor_002_mask.tif', 'tumor_002.tif', 'tumor_005_mask.tif', 'tumor_005.tif', 'tumor_012_mask.tif', 'tumor_012.tif', 'tumor_016_mask.tif', 'tumor_016.tif', 'tumor_019_mask.tif', 'tumor_059.xml', 'tumor_002.xml', 'tumor_075.xml', 'tumor_023.xml', 'tumor_057.xml', 'tumor_005.xml', 'tumor_035.xml', 'tumor_019.xml', 'tumor_012.xml', 'tumor_016.xml', 'tumor_001.xml', 'tumor_081.xml', 'tumor_084.xml', 'tumor_019.tif', 'tumor_091.xml', 'tumor_094.xml', 'tumor_110.xml', 'tumor_096.xml', 'tumor_101.xml', 'tumor_099.xml', 'tumor_023_mask.tif', 'tumor_023.tif', 'tumor_031_mask.tif', 'tumor_031.tif', 'tumor_035_mask.tif', 'tumor_035.tif', 'tumor_038.tif', 'tumor_038 (1).xml', 'tumor_057_mask.tif', 'tumor_057.tif', 'tumor_059_mask.tif', 'tumor_059.tif', 'tumor_064_mask.tif', 'tumor_064.tif', 'tumor_075_mask.tif', 'tumor_075.tif', 'tumor_078_mask.tif', 'tumor_078.tif', 'tumor_081_mask.tif', 'tumor_081.tif', 'tumor_084_mask.tif', 'tumor_084.tif', 'tumor_094_mask.tif', 'tumor_094.tif', 'tumor_096_mask.tif', 'tumor_096.tif', 'tumor_110_mask.tif', 'tumor_110.tif', 'tumor_101_mask.tif', 'tumor_101.tif', 'tumor_031.xml', 'tumor_038.xml', 'tumor_064.xml', 'tumor_078.xml']\n"
          ],
          "name": "stdout"
        }
      ]
    },
    {
      "cell_type": "code",
      "metadata": {
        "id": "IMXtw5uqe-x2",
        "outputId": "34d29f6d-547b-493a-fec9-67419598ff0c",
        "colab": {
          "base_uri": "https://localhost:8080/",
          "height": 70
        }
      },
      "source": [
        "tumor_mask_pairs = []\n",
        "\n",
        "for file in files:\n",
        "  if 'mask' in file:\n",
        "    mask = file\n",
        "    slide = file.split('.')[0][0:-5] + '.tif'\n",
        "    tumor_mask_pairs.append([mask, slide])\n",
        "\n",
        "print(len(tumor_mask_pairs))\n",
        "print(tumor_mask_pairs)"
      ],
      "execution_count": 8,
      "outputs": [
        {
          "output_type": "stream",
          "text": [
            "21\n",
            "[['tumor_091_mask.tif', 'tumor_091.tif'], ['tumor_001_mask.tif', 'tumor_001.tif'], ['tumor_002_mask.tif', 'tumor_002.tif'], ['tumor_005_mask.tif', 'tumor_005.tif'], ['tumor_012_mask.tif', 'tumor_012.tif'], ['tumor_016_mask.tif', 'tumor_016.tif'], ['tumor_019_mask.tif', 'tumor_019.tif'], ['tumor_023_mask.tif', 'tumor_023.tif'], ['tumor_031_mask.tif', 'tumor_031.tif'], ['tumor_035_mask.tif', 'tumor_035.tif'], ['tumor_057_mask.tif', 'tumor_057.tif'], ['tumor_059_mask.tif', 'tumor_059.tif'], ['tumor_064_mask.tif', 'tumor_064.tif'], ['tumor_075_mask.tif', 'tumor_075.tif'], ['tumor_078_mask.tif', 'tumor_078.tif'], ['tumor_081_mask.tif', 'tumor_081.tif'], ['tumor_084_mask.tif', 'tumor_084.tif'], ['tumor_094_mask.tif', 'tumor_094.tif'], ['tumor_096_mask.tif', 'tumor_096.tif'], ['tumor_110_mask.tif', 'tumor_110.tif'], ['tumor_101_mask.tif', 'tumor_101.tif']]\n"
          ],
          "name": "stdout"
        }
      ]
    },
    {
      "cell_type": "markdown",
      "metadata": {
        "id": "Goy__3B-oODg"
      },
      "source": [
        "### Train Test separation"
      ]
    },
    {
      "cell_type": "code",
      "metadata": {
        "id": "xip6m6NboVOk"
      },
      "source": [
        "train_size = int(len(tumor_mask_pairs)*0.8)\n",
        "train_slides = tumor_mask_pairs[:train_size]\n",
        "test_slides = tumor_mask_pairs[train_size:]"
      ],
      "execution_count": 9,
      "outputs": []
    },
    {
      "cell_type": "code",
      "metadata": {
        "id": "xJiW2bMjoZCA",
        "outputId": "7c033fec-fb24-43f9-915c-5fb4681b4212",
        "colab": {
          "base_uri": "https://localhost:8080/",
          "height": 50
        }
      },
      "source": [
        "print(len(train_slides))\n",
        "print(len(test_slides))"
      ],
      "execution_count": 10,
      "outputs": [
        {
          "output_type": "stream",
          "text": [
            "16\n",
            "5\n"
          ],
          "name": "stdout"
        }
      ]
    },
    {
      "cell_type": "markdown",
      "metadata": {
        "id": "f7RMDKr8oqB1"
      },
      "source": [
        "# Generate Dataset and save to disk"
      ]
    },
    {
      "cell_type": "code",
      "metadata": {
        "id": "uYdAcyNwpQPo"
      },
      "source": [
        "def generate_dataset(tumor_mask_pairs, slides_directory):\n",
        "  for pair in tumor_mask_pairs:\n",
        "    print(pair)\n",
        "    mask_path = slides_directory + '/' + pair[0]\n",
        "    slide_path = slides_directory + '/' + pair[1]\n",
        "\n",
        "    slide = open_slide(slide_path)\n",
        "    tumor_mask = open_slide(mask_path)\n",
        "\n",
        "    pos_images, mask_subimages, neg_images = extract_images(slide, tumor_mask, level)\n",
        "\n",
        "    %cd positive/\n",
        "    save_pos_images_with_flippping(pair[1], pos_images)\n",
        "    \n",
        "    %cd ../negative/\n",
        "    save_neg_images(pair[1], neg_images)\n",
        "\n",
        "    %cd .."
      ],
      "execution_count": 11,
      "outputs": []
    },
    {
      "cell_type": "code",
      "metadata": {
        "id": "3cgeat4Jqjh0"
      },
      "source": [
        "def extract_images(image_slide, tumor_slide, level):\n",
        "  factor = 2**level\n",
        "  threshold_pixels_cancerous = 0.001*(IMG_SIZE * IMG_SIZE)\n",
        "\n",
        "  pos_images = []\n",
        "  mask_subimages = []\n",
        "  neg_images = []\n",
        "\n",
        "  for i in range(0, image_slide.level_dimensions[level][0], IMG_SIZE):\n",
        "    for j in range(0, image_slide.level_dimensions[level][1], IMG_SIZE):\n",
        "      sub_img = read_slide(image_slide, x=i*factor, y=j*factor, level=level, width=IMG_SIZE, height=IMG_SIZE)\n",
        "      tissue_pixels = find_tissue_pixels(sub_img)\n",
        "      percent_tissue = len(tissue_pixels) / float(sub_img.shape[0]*sub_img.shape[1]) * 100\n",
        "      # if percent_tissue > 0.1:\n",
        "      if percent_tissue > 10.0:\n",
        "        mask_subimg = read_slide(tumor_slide, x=i*factor, y=j*factor, level=level, width=IMG_SIZE, height=IMG_SIZE)\n",
        "        mask_subimg = mask_subimg[:,:,0]\n",
        "        n_tumour_pixels = np.count_nonzero(mask_subimg == 1)\n",
        "        if n_tumour_pixels>threshold_pixels_cancerous:\n",
        "          pos_images.append(sub_img)\n",
        "          mask_subimages.append(mask_subimg)\n",
        "        else:\n",
        "          neg_images.append(sub_img)\n",
        "  \n",
        "  return pos_images, mask_subimages, neg_images"
      ],
      "execution_count": 12,
      "outputs": []
    },
    {
      "cell_type": "code",
      "metadata": {
        "id": "8mlIFZQbtnFc"
      },
      "source": [
        "def read_slide(slide, x, y, level, width, height, as_float=False):\n",
        "    im = slide.read_region((x,y), level, (width, height))\n",
        "    im = im.convert('RGB') # drop the alpha channel\n",
        "    if as_float:\n",
        "        im = np.asarray(im, dtype=np.float32)\n",
        "    else:\n",
        "        im = np.asarray(im)\n",
        "    assert im.shape == (height, width, 3)\n",
        "    return im\n",
        "\n",
        "def find_tissue_pixels(image, intensity=0.8):\n",
        "    im_gray = rgb2gray(image)\n",
        "    assert im_gray.shape == (image.shape[0], image.shape[1])\n",
        "    indices = np.where(im_gray <= intensity)\n",
        "    return list(zip(indices[0], indices[1]))"
      ],
      "execution_count": 13,
      "outputs": []
    },
    {
      "cell_type": "code",
      "metadata": {
        "id": "I87_fXsMovpc"
      },
      "source": [
        "#save images along with some rotated variants\n",
        "def save_pos_images_with_flippping(fname, pos_images):\n",
        "  i=0\n",
        "  for j in range(len(pos_images)):\n",
        "    result = Image.fromarray((pos_images[j]).astype(np.uint8))\n",
        "    result.save(fname + '_img_' + str(i) + '.bmp')\n",
        "    i += 1\n",
        "  \n",
        "  #add images flipped left to right\n",
        "  for j in range(len(pos_images)):\n",
        "    flipped_image = np.fliplr(pos_images[j])\n",
        "    result = Image.fromarray(flipped_image.astype(np.uint8))\n",
        "    result.save(fname + '_img_' + str(i) + '.bmp')\n",
        "    i += 1\n",
        "\n",
        "  #add images flipped up down\n",
        "  for j in range(len(pos_images)):\n",
        "    flipped_image = np.flipud(pos_images[j])\n",
        "    result = Image.fromarray(flipped_image.astype(np.uint8))\n",
        "    result.save(fname + '_img_' + str(i) + '.bmp')\n",
        "    i += 1\n",
        "  \n",
        "  #add images flipped lr and ud\n",
        "  for j in range(len(pos_images)):\n",
        "    flipped_image = np.fliplr(pos_images[j])\n",
        "    flipped_image_2 = np.flipud(flipped_image)\n",
        "    result = Image.fromarray(flipped_image_2.astype(np.uint8))\n",
        "    result.save(fname + '_img_' + str(i) + '.bmp')\n",
        "    i += 1\n",
        "  return i"
      ],
      "execution_count": 14,
      "outputs": []
    },
    {
      "cell_type": "code",
      "metadata": {
        "id": "-lUfFA-XowY-"
      },
      "source": [
        "def save_neg_images(fname, neg_images):\n",
        "  i=0\n",
        "  for j in range(len(neg_images)):\n",
        "    result = Image.fromarray((neg_images[j]).astype(np.uint8))\n",
        "    result.save(fname + '_img_' + str(i) + '.bmp')\n",
        "    i += 1"
      ],
      "execution_count": 15,
      "outputs": []
    },
    {
      "cell_type": "code",
      "metadata": {
        "id": "CRbFCd9mpQIT",
        "outputId": "35611dde-6154-4448-c11f-2c28d58f7715",
        "colab": {
          "base_uri": "https://localhost:8080/",
          "height": 34
        }
      },
      "source": [
        "!mkdir 'camelyon_small_data'\n",
        "%cd 'camelyon_small_data'\n",
        "!mkdir 'train'\n",
        "!mkdir 'test'"
      ],
      "execution_count": 16,
      "outputs": [
        {
          "output_type": "stream",
          "text": [
            "/content/camelyon_small_data\n"
          ],
          "name": "stdout"
        }
      ]
    },
    {
      "cell_type": "code",
      "metadata": {
        "id": "ELpFbWriruaa",
        "outputId": "4d89e573-ec3b-4f82-dd83-9420cb5a60bf",
        "colab": {
          "base_uri": "https://localhost:8080/",
          "height": 1000
        }
      },
      "source": [
        "%cd 'train'\n",
        "!mkdir 'positive'\n",
        "!mkdir 'negative'\n",
        "generate_dataset(train_slides, slides_directory)"
      ],
      "execution_count": 17,
      "outputs": [
        {
          "output_type": "stream",
          "text": [
            "/content/camelyon_small_data/train\n",
            "['tumor_091_mask.tif', 'tumor_091.tif']\n",
            "/content/camelyon_small_data/train/positive\n",
            "/content/camelyon_small_data/train/negative\n",
            "/content/camelyon_small_data/train\n",
            "['tumor_001_mask.tif', 'tumor_001.tif']\n",
            "/content/camelyon_small_data/train/positive\n",
            "/content/camelyon_small_data/train/negative\n",
            "/content/camelyon_small_data/train\n",
            "['tumor_002_mask.tif', 'tumor_002.tif']\n",
            "/content/camelyon_small_data/train/positive\n",
            "/content/camelyon_small_data/train/negative\n",
            "/content/camelyon_small_data/train\n",
            "['tumor_005_mask.tif', 'tumor_005.tif']\n",
            "/content/camelyon_small_data/train/positive\n",
            "/content/camelyon_small_data/train/negative\n",
            "/content/camelyon_small_data/train\n",
            "['tumor_012_mask.tif', 'tumor_012.tif']\n",
            "/content/camelyon_small_data/train/positive\n",
            "/content/camelyon_small_data/train/negative\n",
            "/content/camelyon_small_data/train\n",
            "['tumor_016_mask.tif', 'tumor_016.tif']\n",
            "/content/camelyon_small_data/train/positive\n",
            "/content/camelyon_small_data/train/negative\n",
            "/content/camelyon_small_data/train\n",
            "['tumor_019_mask.tif', 'tumor_019.tif']\n",
            "/content/camelyon_small_data/train/positive\n",
            "/content/camelyon_small_data/train/negative\n",
            "/content/camelyon_small_data/train\n",
            "['tumor_023_mask.tif', 'tumor_023.tif']\n",
            "/content/camelyon_small_data/train/positive\n",
            "/content/camelyon_small_data/train/negative\n",
            "/content/camelyon_small_data/train\n",
            "['tumor_031_mask.tif', 'tumor_031.tif']\n",
            "/content/camelyon_small_data/train/positive\n",
            "/content/camelyon_small_data/train/negative\n",
            "/content/camelyon_small_data/train\n",
            "['tumor_035_mask.tif', 'tumor_035.tif']\n",
            "/content/camelyon_small_data/train/positive\n",
            "/content/camelyon_small_data/train/negative\n",
            "/content/camelyon_small_data/train\n",
            "['tumor_057_mask.tif', 'tumor_057.tif']\n",
            "/content/camelyon_small_data/train/positive\n",
            "/content/camelyon_small_data/train/negative\n",
            "/content/camelyon_small_data/train\n",
            "['tumor_059_mask.tif', 'tumor_059.tif']\n",
            "/content/camelyon_small_data/train/positive\n",
            "/content/camelyon_small_data/train/negative\n",
            "/content/camelyon_small_data/train\n",
            "['tumor_064_mask.tif', 'tumor_064.tif']\n",
            "/content/camelyon_small_data/train/positive\n",
            "/content/camelyon_small_data/train/negative\n",
            "/content/camelyon_small_data/train\n",
            "['tumor_075_mask.tif', 'tumor_075.tif']\n",
            "/content/camelyon_small_data/train/positive\n",
            "/content/camelyon_small_data/train/negative\n",
            "/content/camelyon_small_data/train\n",
            "['tumor_078_mask.tif', 'tumor_078.tif']\n",
            "/content/camelyon_small_data/train/positive\n",
            "/content/camelyon_small_data/train/negative\n",
            "/content/camelyon_small_data/train\n",
            "['tumor_081_mask.tif', 'tumor_081.tif']\n",
            "/content/camelyon_small_data/train/positive\n",
            "/content/camelyon_small_data/train/negative\n",
            "/content/camelyon_small_data/train\n"
          ],
          "name": "stdout"
        }
      ]
    },
    {
      "cell_type": "code",
      "metadata": {
        "id": "7K5zVeRtryzM",
        "outputId": "e38d7d2b-b497-40a4-ed2d-e059d46b8753",
        "colab": {
          "base_uri": "https://localhost:8080/",
          "height": 370
        }
      },
      "source": [
        "%cd ../test\n",
        "!mkdir positive\n",
        "!mkdir negative\n",
        "generate_dataset(test_slides, slides_directory)"
      ],
      "execution_count": 18,
      "outputs": [
        {
          "output_type": "stream",
          "text": [
            "/content/camelyon_small_data/test\n",
            "['tumor_084_mask.tif', 'tumor_084.tif']\n",
            "/content/camelyon_small_data/test/positive\n",
            "/content/camelyon_small_data/test/negative\n",
            "/content/camelyon_small_data/test\n",
            "['tumor_094_mask.tif', 'tumor_094.tif']\n",
            "/content/camelyon_small_data/test/positive\n",
            "/content/camelyon_small_data/test/negative\n",
            "/content/camelyon_small_data/test\n",
            "['tumor_096_mask.tif', 'tumor_096.tif']\n",
            "/content/camelyon_small_data/test/positive\n",
            "/content/camelyon_small_data/test/negative\n",
            "/content/camelyon_small_data/test\n",
            "['tumor_110_mask.tif', 'tumor_110.tif']\n",
            "/content/camelyon_small_data/test/positive\n",
            "/content/camelyon_small_data/test/negative\n",
            "/content/camelyon_small_data/test\n",
            "['tumor_101_mask.tif', 'tumor_101.tif']\n",
            "/content/camelyon_small_data/test/positive\n",
            "/content/camelyon_small_data/test/negative\n",
            "/content/camelyon_small_data/test\n"
          ],
          "name": "stdout"
        }
      ]
    },
    {
      "cell_type": "markdown",
      "metadata": {
        "id": "1m_zGAd3AKub"
      },
      "source": [
        "## Train Model"
      ]
    },
    {
      "cell_type": "code",
      "metadata": {
        "id": "21PFTRqxAH8J",
        "outputId": "7a0f0fba-d230-43c6-aac9-37d7f57b3453",
        "colab": {
          "base_uri": "https://localhost:8080/",
          "height": 34
        }
      },
      "source": [
        "try:\n",
        "  %tensorflow_version 2.x\n",
        "except Exception:\n",
        "  pass\n",
        "\n",
        "import tensorflow as tf\n",
        "print(tf.__version__)\n",
        "\n",
        "from tensorflow.keras.preprocessing.image import ImageDataGenerator\n",
        "from tensorflow.keras import datasets, layers, models"
      ],
      "execution_count": 20,
      "outputs": [
        {
          "output_type": "stream",
          "text": [
            "2.3.0\n"
          ],
          "name": "stdout"
        }
      ]
    },
    {
      "cell_type": "code",
      "metadata": {
        "id": "MLd3QfJnAolw",
        "outputId": "67d9128f-7288-4cf7-c170-948cc8c0ea34",
        "colab": {
          "base_uri": "https://localhost:8080/",
          "height": 319
        }
      },
      "source": [
        "data_root_train = '/content/camelyon_small_data/train'\n",
        "data_root_validation = '/content/camelyon_small_data/test'\n",
        "\n",
        "train_datagen = ImageDataGenerator(rescale=1./255)\n",
        "train_generator = train_datagen.flow_from_directory(\n",
        "        data_root_train,\n",
        "        target_size=(IMG_SIZE, IMG_SIZE),\n",
        "        batch_size=32,\n",
        "        class_mode='binary'\n",
        "        )\n",
        "\n",
        "validation_datagen = ImageDataGenerator(rescale=1./255)\n",
        "validation_generator = train_datagen.flow_from_directory(\n",
        "        data_root_validation,\n",
        "        target_size=(IMG_SIZE, IMG_SIZE),\n",
        "        batch_size=32,\n",
        "        class_mode='binary'\n",
        "        )\n",
        "\n",
        "i=0\n",
        "for data_batch, labels_batch in train_generator:\n",
        "    print('data batch shape:', data_batch.shape)\n",
        "    #print(data_batch[0])\n",
        "    print('labels batch shape:', labels_batch.shape)\n",
        "    print(labels_batch)\n",
        "    if i==3:\n",
        "      break\n",
        "    else:\n",
        "      i+=1\n"
      ],
      "execution_count": 28,
      "outputs": [
        {
          "output_type": "stream",
          "text": [
            "Found 1137 images belonging to 2 classes.\n",
            "Found 500 images belonging to 2 classes.\n",
            "data batch shape: (32, 299, 299, 3)\n",
            "labels batch shape: (32,)\n",
            "[0. 0. 1. 0. 1. 1. 1. 0. 0. 0. 1. 0. 1. 0. 0. 0. 0. 0. 0. 1. 0. 1. 0. 1.\n",
            " 0. 1. 0. 0. 0. 0. 1. 1.]\n",
            "data batch shape: (32, 299, 299, 3)\n",
            "labels batch shape: (32,)\n",
            "[0. 0. 1. 1. 1. 0. 0. 0. 0. 0. 0. 1. 1. 1. 0. 0. 0. 0. 0. 0. 1. 0. 1. 0.\n",
            " 1. 1. 0. 0. 1. 0. 0. 0.]\n",
            "data batch shape: (32, 299, 299, 3)\n",
            "labels batch shape: (32,)\n",
            "[0. 0. 0. 1. 0. 0. 0. 0. 0. 0. 0. 0. 1. 0. 0. 1. 1. 0. 1. 0. 1. 0. 1. 0.\n",
            " 0. 1. 0. 0. 0. 0. 0. 0.]\n",
            "data batch shape: (32, 299, 299, 3)\n",
            "labels batch shape: (32,)\n",
            "[1. 0. 0. 1. 0. 0. 1. 0. 1. 0. 0. 0. 0. 0. 0. 0. 0. 0. 0. 0. 0. 0. 0. 1.\n",
            " 0. 0. 0. 0. 1. 0. 1. 1.]\n"
          ],
          "name": "stdout"
        }
      ]
    },
    {
      "cell_type": "code",
      "metadata": {
        "id": "5NSzdGqaBDJ4",
        "outputId": "1e785d77-6d8e-412c-c64d-9413020bebe9",
        "colab": {
          "base_uri": "https://localhost:8080/",
          "height": 34
        }
      },
      "source": [
        "# Class weights when flipped images are added to pos images\n",
        "pos = sum(train_generator.classes)\n",
        "neg = len(train_generator.classes) - pos\n",
        "total = pos + neg\n",
        "\n",
        "weight_for_0 = (1 / neg)*(total)/2.0 \n",
        "weight_for_1 = (1 / pos)*(total)/2.0\n",
        "\n",
        "class_weight = {0: weight_for_0, 1: weight_for_1}\n",
        "print(class_weight)"
      ],
      "execution_count": 45,
      "outputs": [
        {
          "output_type": "stream",
          "text": [
            "{0: 0.7168978562421185, 1: 1.6526162790697674}\n"
          ],
          "name": "stdout"
        }
      ]
    },
    {
      "cell_type": "code",
      "metadata": {
        "id": "XSCVhZwSBksM"
      },
      "source": [
        "METRICS = [\n",
        "      tf.keras.metrics.TruePositives(name='tp'),\n",
        "      tf.keras.metrics.FalsePositives(name='fp'),\n",
        "      tf.keras.metrics.TrueNegatives(name='tn'),\n",
        "      tf.keras.metrics.FalseNegatives(name='fn'), \n",
        "      tf.keras.metrics.BinaryAccuracy(name='accuracy'),\n",
        "      tf.keras.metrics.Precision(name='precision'),\n",
        "      tf.keras.metrics.Recall(name='recall'),\n",
        "      tf.keras.metrics.AUC(name='auc'),\n",
        "]"
      ],
      "execution_count": 29,
      "outputs": []
    },
    {
      "cell_type": "code",
      "metadata": {
        "id": "o0Di1JyzBNBd"
      },
      "source": [
        "early_stopping = tf.keras.callbacks.EarlyStopping(\n",
        "    monitor='val_auc', \n",
        "    verbose=1,\n",
        "    patience=10,\n",
        "    mode='max',\n",
        "    restore_best_weights=True)"
      ],
      "execution_count": 34,
      "outputs": []
    },
    {
      "cell_type": "code",
      "metadata": {
        "id": "e2gwIAISBbGU",
        "outputId": "6dee43ed-7c79-4d94-f63d-d3921bbfdd16",
        "colab": {
          "base_uri": "https://localhost:8080/",
          "height": 440
        }
      },
      "source": [
        "base_model = tf.keras.applications.InceptionV3(input_shape=(IMG_SIZE, IMG_SIZE, 3),\n",
        "                                               include_top=False,\n",
        "                                               weights='imagenet')\n",
        "\n",
        "base_model.trainable = False\n",
        "global_average_layer = tf.keras.layers.GlobalAveragePooling2D()\n",
        "prediction_layer = tf.keras.layers.Dense(1, activation='sigmoid')\n",
        "\n",
        "# build a new model reusing the pretrained base\n",
        "model = tf.keras.Sequential([\n",
        "  base_model,\n",
        "  global_average_layer,\n",
        "  prediction_layer\n",
        "])\n",
        "\n",
        "model.compile(optimizer='adam',\n",
        "              loss=tf.keras.losses.BinaryCrossentropy(from_logits=True),\n",
        "              metrics=METRICS)\n",
        "\n",
        "history = model.fit(\n",
        "      train_generator,\n",
        "      epochs=25,\n",
        "      steps_per_epoch=train_generator.n//train_generator.batch_size+1,\n",
        "      validation_data=validation_generator,\n",
        "      validation_steps = validation_generator.n//validation_generator.batch_size+1,\n",
        "      class_weight=class_weight,\n",
        "      callbacks = [early_stopping])"
      ],
      "execution_count": 46,
      "outputs": [
        {
          "output_type": "stream",
          "text": [
            "Epoch 1/25\n",
            "36/36 [==============================] - 6s 172ms/step - loss: 0.6542 - tp: 492.0000 - fp: 387.0000 - tn: 662.0000 - fn: 96.0000 - accuracy: 0.7049 - precision: 0.5597 - recall: 0.8367 - auc: 0.8193 - val_loss: 0.6698 - val_tp: 225.0000 - val_fp: 113.0000 - val_tn: 143.0000 - val_fn: 19.0000 - val_accuracy: 0.7360 - val_precision: 0.6657 - val_recall: 0.9221 - val_auc: 0.8094\n",
            "Epoch 2/25\n",
            "36/36 [==============================] - 4s 123ms/step - loss: 0.5990 - tp: 286.0000 - fp: 143.0000 - tn: 650.0000 - fn: 58.0000 - accuracy: 0.8232 - precision: 0.6667 - recall: 0.8314 - auc: 0.9222 - val_loss: 0.6620 - val_tp: 201.0000 - val_fp: 95.0000 - val_tn: 161.0000 - val_fn: 43.0000 - val_accuracy: 0.7240 - val_precision: 0.6791 - val_recall: 0.8238 - val_auc: 0.8042\n",
            "Epoch 3/25\n",
            "36/36 [==============================] - 4s 123ms/step - loss: 0.5872 - tp: 291.0000 - fp: 116.0000 - tn: 677.0000 - fn: 53.0000 - accuracy: 0.8514 - precision: 0.7150 - recall: 0.8459 - auc: 0.9361 - val_loss: 0.6595 - val_tp: 189.0000 - val_fp: 91.0000 - val_tn: 165.0000 - val_fn: 55.0000 - val_accuracy: 0.7080 - val_precision: 0.6750 - val_recall: 0.7746 - val_auc: 0.8018\n",
            "Epoch 4/25\n",
            "36/36 [==============================] - 4s 123ms/step - loss: 0.5805 - tp: 286.0000 - fp: 83.0000 - tn: 710.0000 - fn: 58.0000 - accuracy: 0.8760 - precision: 0.7751 - recall: 0.8314 - auc: 0.9436 - val_loss: 0.6685 - val_tp: 215.0000 - val_fp: 115.0000 - val_tn: 141.0000 - val_fn: 29.0000 - val_accuracy: 0.7120 - val_precision: 0.6515 - val_recall: 0.8811 - val_auc: 0.8000\n",
            "Epoch 5/25\n",
            "36/36 [==============================] - 4s 124ms/step - loss: 0.5748 - tp: 288.0000 - fp: 78.0000 - tn: 715.0000 - fn: 56.0000 - accuracy: 0.8821 - precision: 0.7869 - recall: 0.8372 - auc: 0.9498 - val_loss: 0.6686 - val_tp: 219.0000 - val_fp: 115.0000 - val_tn: 141.0000 - val_fn: 25.0000 - val_accuracy: 0.7200 - val_precision: 0.6557 - val_recall: 0.8975 - val_auc: 0.7987\n",
            "Epoch 6/25\n",
            "36/36 [==============================] - 4s 122ms/step - loss: 0.5715 - tp: 296.0000 - fp: 73.0000 - tn: 720.0000 - fn: 48.0000 - accuracy: 0.8936 - precision: 0.8022 - recall: 0.8605 - auc: 0.9532 - val_loss: 0.6672 - val_tp: 210.0000 - val_fp: 112.0000 - val_tn: 144.0000 - val_fn: 34.0000 - val_accuracy: 0.7080 - val_precision: 0.6522 - val_recall: 0.8607 - val_auc: 0.7957\n",
            "Epoch 7/25\n",
            "36/36 [==============================] - 4s 122ms/step - loss: 0.5666 - tp: 304.0000 - fp: 65.0000 - tn: 728.0000 - fn: 40.0000 - accuracy: 0.9077 - precision: 0.8238 - recall: 0.8837 - auc: 0.9576 - val_loss: 0.6802 - val_tp: 235.0000 - val_fp: 139.0000 - val_tn: 117.0000 - val_fn: 9.0000 - val_accuracy: 0.7040 - val_precision: 0.6283 - val_recall: 0.9631 - val_auc: 0.7985\n",
            "Epoch 8/25\n",
            "36/36 [==============================] - 4s 123ms/step - loss: 0.5635 - tp: 310.0000 - fp: 68.0000 - tn: 725.0000 - fn: 34.0000 - accuracy: 0.9103 - precision: 0.8201 - recall: 0.9012 - auc: 0.9617 - val_loss: 0.6573 - val_tp: 190.0000 - val_fp: 86.0000 - val_tn: 170.0000 - val_fn: 54.0000 - val_accuracy: 0.7200 - val_precision: 0.6884 - val_recall: 0.7787 - val_auc: 0.8007\n",
            "Epoch 9/25\n",
            "36/36 [==============================] - 4s 123ms/step - loss: 0.5616 - tp: 306.0000 - fp: 65.0000 - tn: 728.0000 - fn: 38.0000 - accuracy: 0.9094 - precision: 0.8248 - recall: 0.8895 - auc: 0.9634 - val_loss: 0.6553 - val_tp: 188.0000 - val_fp: 85.0000 - val_tn: 171.0000 - val_fn: 56.0000 - val_accuracy: 0.7180 - val_precision: 0.6886 - val_recall: 0.7705 - val_auc: 0.8025\n",
            "Epoch 10/25\n",
            "36/36 [==============================] - 4s 123ms/step - loss: 0.5586 - tp: 314.0000 - fp: 67.0000 - tn: 726.0000 - fn: 30.0000 - accuracy: 0.9147 - precision: 0.8241 - recall: 0.9128 - auc: 0.9655 - val_loss: 0.6628 - val_tp: 202.0000 - val_fp: 101.0000 - val_tn: 155.0000 - val_fn: 42.0000 - val_accuracy: 0.7140 - val_precision: 0.6667 - val_recall: 0.8279 - val_auc: 0.8019\n",
            "Epoch 11/25\n",
            "36/36 [==============================] - ETA: 0s - loss: 0.5552 - tp: 311.0000 - fp: 54.0000 - tn: 739.0000 - fn: 33.0000 - accuracy: 0.9235 - precision: 0.8521 - recall: 0.9041 - auc: 0.9677Restoring model weights from the end of the best epoch.\n",
            "36/36 [==============================] - 5s 127ms/step - loss: 0.5552 - tp: 311.0000 - fp: 54.0000 - tn: 739.0000 - fn: 33.0000 - accuracy: 0.9235 - precision: 0.8521 - recall: 0.9041 - auc: 0.9677 - val_loss: 0.6628 - val_tp: 208.0000 - val_fp: 106.0000 - val_tn: 150.0000 - val_fn: 36.0000 - val_accuracy: 0.7160 - val_precision: 0.6624 - val_recall: 0.8525 - val_auc: 0.8047\n",
            "Epoch 00011: early stopping\n"
          ],
          "name": "stdout"
        }
      ]
    }
  ]
}